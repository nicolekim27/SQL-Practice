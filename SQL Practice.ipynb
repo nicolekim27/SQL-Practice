{
 "cells": [
  {
   "cell_type": "code",
   "execution_count": null,
   "metadata": {},
   "outputs": [],
   "source": [
    "#Q1 List the facilities that do not charge a fee to members\n",
    "SELECT * \n",
    "FROM Facilities\n",
    "WHERE membercost > 0"
   ]
  },
  {
   "cell_type": "code",
   "execution_count": 3,
   "metadata": {},
   "outputs": [],
   "source": [
    "#Q2 How many facilities do not charge a fee to members?\n",
    "SELECT * \n",
    "FROM Facilities \n",
    "WHERE membercost = 0\n",
    "#Shows 4 facilities that do not charge a fee to members"
   ]
  },
  {
   "cell_type": "code",
   "execution_count": null,
   "metadata": {},
   "outputs": [],
   "source": [
    "#Q3 Produce a list of facilities that charge a fee less than 20% of the facility's monthly maintenance\n",
    "#Return the facid, facility name, member cost, and monthly maintenance\n",
    "SELECT *\n",
    "FROM Facilities\n",
    "WHERE membercost < (0.2)*monthlymaintenance"
   ]
  },
  {
   "cell_type": "code",
   "execution_count": null,
   "metadata": {},
   "outputs": [],
   "source": [
    "#Q4 How can you retrieve the details of facilities with ID 1 and 5 without using OR?\n",
    "SELECT *\n",
    "FROM Facilities\n",
    "WHERE facid IN ( 1, 5 ) "
   ]
  },
  {
   "cell_type": "code",
   "execution_count": null,
   "metadata": {},
   "outputs": [],
   "source": [
    "#Q5 How can you produce a list of facilities, with each labelled as 'cheap' or 'expensive', depending on if their monthly maintenance cost is more than $100? Return the name and monthly maintenance of the facilities in question. \n",
    "SELECT name, \n",
    "CASE WHEN monthlymaintenance <100 THEN  'cheap' ELSE  'expensive'\n",
    "END AS cheap_or_expensive\n",
    "FROM Facilities"
   ]
  },
  {
   "cell_type": "code",
   "execution_count": null,
   "metadata": {},
   "outputs": [],
   "source": [
    "#Q6: You'd like to get the first and last name of the last member(s) who signed up. Do not use the LIMIT clause for your solution. \n",
    "SELECT firstname, surname, joindate FROM Members\n",
    "WHERE joindate = (SELECT MAX(joindate) \n",
    "FROM Members)"
   ]
  },
  {
   "cell_type": "code",
   "execution_count": null,
   "metadata": {},
   "outputs": [],
   "source": [
    "#Q7: How can you produce a list of all members who have used a tennis court? Include in your output the name of the court, and the name of the member formatted as a single column. Ensure no duplicate data, and order by the member name. \n",
    "SELECT CONCAT( m.surname,  \",\",  \" \", m.firstname ) AS member, f.name AS name\n",
    "FROM  `Bookings` b\n",
    "JOIN  `Facilities` f ON b.facid = f.facid\n",
    "JOIN  `Members` m ON b.memid = m.memid\n",
    "WHERE f.name LIKE  '%Tennis Court%'\n",
    "GROUP BY 1 , 2\n",
    "ORDER BY member"
   ]
  },
  {
   "cell_type": "code",
   "execution_count": null,
   "metadata": {},
   "outputs": [],
   "source": [
    "#Q8: How can you produce a list of bookings on the day of 2012-09-14 which will cost the member (or guest) more than $30? Remember that guests have different costs to members (the listed costs are per half-hour 'slot'), and the guest user's ID is always 0. Include in your output the name of the facility, the name of the member formatted as a single column, and the cost. Order by descending cost, and do not use any subqueries.\n",
    "SELECT CONCAT( m.firstname,  '', m.surname ) AS member, f.name AS facility,\n",
    "(CASE WHEN m.memid =0\n",
    "THEN f.guestcost * b.slots\n",
    "ELSE f.membercost * b.slots\n",
    "END) AS cost\n",
    "FROM Members AS m\n",
    "INNER JOIN Bookings AS b ON ( m.memid = b.memid ) \n",
    "INNER JOIN Facilities AS f ON ( b.facid = f.facid ) \n",
    "WHERE (b.starttime LIKE  '2012-09-14%')\n",
    "AND ((m.memid =0 AND b.slots * f.guestcost >30)\n",
    "OR (m.memid >0 AND b.slots * f.membercost >30))\n",
    "ORDER BY cost DESC \n"
   ]
  },
  {
   "cell_type": "code",
   "execution_count": null,
   "metadata": {},
   "outputs": [],
   "source": [
    "#Q9: This time, produce the same result as in Q8, but using a subquery. \n",
    "SELECT member, facility, cost\n",
    "FROM (SELECT \n",
    "      CONCAT( m.firstname,  '', m.surname ) AS member, f.name AS facility, \n",
    "CASE WHEN m.memid =0\n",
    "THEN b.slots * f.guestcost\n",
    "ELSE b.slots * f.membercost\n",
    "END AS cost\n",
    "FROM Members AS m\n",
    "INNER JOIN Bookings AS b ON m.memid = b.memid\n",
    "INNER JOIN Facilities AS f ON b.facid = f.facid\n",
    "WHERE b.starttime LIKE  '2012-09-14%') AS bookings\n",
    "WHERE cost >30\n",
    "ORDER BY cost DESC"
   ]
  },
  {
   "cell_type": "code",
   "execution_count": null,
   "metadata": {},
   "outputs": [],
   "source": [
    "#Q10: Produce a list of facilities with a total revenue less than 1000. The output of facility name and total revenue, sorted by revenue. Remember that there's a different cost for guests and members! \n",
    "SELECT facid, SUM( slots ) \n",
    "FROM Bookings\n",
    "GROUP BY facid\n",
    "HAVING SUM( slots ) >1000\n",
    "ORDER BY facid"
   ]
  }
 ],
 "metadata": {
  "kernelspec": {
   "display_name": "Python 3",
   "language": "python",
   "name": "python3"
  },
  "language_info": {
   "codemirror_mode": {
    "name": "ipython",
    "version": 3
   },
   "file_extension": ".py",
   "mimetype": "text/x-python",
   "name": "python",
   "nbconvert_exporter": "python",
   "pygments_lexer": "ipython3",
   "version": "3.7.1"
  }
 },
 "nbformat": 4,
 "nbformat_minor": 2
}
